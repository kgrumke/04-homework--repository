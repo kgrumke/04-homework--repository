{
 "cells": [
  {
   "cell_type": "markdown",
   "metadata": {},
   "source": [
    "# WeatherAPI (Weather)\n",
    "\n",
    "Answer the following questions using [WeatherAPI](http://www.weatherapi.com/). I've added three cells for most questions but you're free to use more or less! Hold `Shift` and hit `Enter` to run a cell, and use the `+` on the top left to add a new cell to a notebook.\n",
    "\n",
    "Be sure to take advantage of both the documentation and the API Explorer!\n",
    "\n",
    "## 0) Import any libraries you might need\n",
    "\n",
    "- *Tip: We're going to be downloading things from the internet, so we probably need `requests`.*\n",
    "- *Tip: Remember you only need to import requests once!*"
   ]
  },
  {
   "cell_type": "code",
   "execution_count": 7,
   "metadata": {},
   "outputs": [],
   "source": [
    "import requests\n",
    "\n",
    "api_key = \"a762dce80c61478aad500252211706\"\n",
    "url = f'http://api.weatherapi.com/v1/current.json?key={api_key}'\n",
    "response = requests.get(url)\n",
    "\n",
    "data = response.json()"
   ]
  },
  {
   "cell_type": "code",
   "execution_count": null,
   "metadata": {
    "collapsed": true
   },
   "outputs": [],
   "source": []
  },
  {
   "cell_type": "markdown",
   "metadata": {
    "collapsed": true
   },
   "source": [
    "## 1) Make a request to the Weather API for where you were born (or lived, or want to visit!).\n",
    "\n",
    "- *Tip: This sure seems familiar.*"
   ]
  },
  {
   "cell_type": "code",
   "execution_count": 6,
   "metadata": {},
   "outputs": [],
   "source": [
    "chiurl = f'http://api.weatherapi.com/v1/current.json?key={api_key}&q=Chicago'\n",
    "response = requests.get(chiurl)\n",
    "\n",
    "chidata = response.json()"
   ]
  },
  {
   "cell_type": "code",
   "execution_count": null,
   "metadata": {},
   "outputs": [],
   "source": []
  },
  {
   "cell_type": "code",
   "execution_count": 9,
   "metadata": {},
   "outputs": [
    {
     "name": "stdout",
     "output_type": "stream",
     "text": [
      "{'last_updated_epoch': 1624204800, 'last_updated': '2021-06-20 11:00', 'temp_c': 25.6, 'temp_f': 78.1, 'is_day': 1, 'condition': {'text': 'Overcast', 'icon': '//cdn.weatherapi.com/weather/64x64/day/122.png', 'code': 1009}, 'wind_mph': 0.0, 'wind_kph': 0.0, 'wind_degree': 167, 'wind_dir': 'SSE', 'pressure_mb': 1007.0, 'pressure_in': 30.2, 'precip_mm': 0.0, 'precip_in': 0.0, 'humidity': 69, 'cloud': 100, 'feelslike_c': 27.7, 'feelslike_f': 81.8, 'vis_km': 16.0, 'vis_miles': 9.0, 'uv': 6.0, 'gust_mph': 6.3, 'gust_kph': 10.1}\n"
     ]
    }
   ],
   "source": [
    "print(chidata['current'])"
   ]
  },
  {
   "cell_type": "markdown",
   "metadata": {},
   "source": [
    "## 2) What's the current wind speed, and how much warmer does it feel than it actually is?\n",
    "\n",
    "- *Tip: You can do this by browsing through the dictionaries, but it might be easier to read the documentation*\n",
    "- *Tip: For the second half: it **is** one temperature, and it **feels** a different temperature. Calculate the difference. Same as we did last time!*"
   ]
  },
  {
   "cell_type": "code",
   "execution_count": 13,
   "metadata": {},
   "outputs": [
    {
     "name": "stdout",
     "output_type": "stream",
     "text": [
      "The current wind speed in Chicago is {0.0} mph.\n"
     ]
    }
   ],
   "source": [
    "print(\"The current wind speed in Chicago is\", {chidata['current']['wind_mph']}, \"mph.\")"
   ]
  },
  {
   "cell_type": "code",
   "execution_count": 63,
   "metadata": {},
   "outputs": [],
   "source": [
    "currenttemp = chidata['current']['temp_f']\n",
    "feelslike = chidata['current']['feelslike_f']"
   ]
  },
  {
   "cell_type": "code",
   "execution_count": 101,
   "metadata": {},
   "outputs": [
    {
     "name": "stdout",
     "output_type": "stream",
     "text": [
      "It feels 3.7 degrees warmer than it is.\n"
     ]
    }
   ],
   "source": [
    "if currenttemp > feelslike:\n",
    "    print(f'It feels {currenttemp - feelslike:.2} degrees cooler than it is.')\n",
    "elif feelslike > currenttemp:\n",
    "    print(f'It feels {feelslike - currenttemp:.2} degrees warmer than it is.')\n",
    "else:\n",
    "    print(f'It feels the same temperature as it is.')"
   ]
  },
  {
   "cell_type": "markdown",
   "metadata": {},
   "source": [
    "## 3) What is the API endpoint for moon-related information? For the place you decided on above, how much of the moon will be visible on next Thursday?\n",
    "\n",
    "- *Tip: Check the documentation!*\n",
    "- *Tip: If you aren't sure what something means, ask in Slack*"
   ]
  },
  {
   "cell_type": "code",
   "execution_count": 30,
   "metadata": {},
   "outputs": [],
   "source": [
    "moonurl = f'http://api.weatherapi.com/v1/astronomy.json?key={api_key}&q=Chicago'\n",
    "response = requests.get(moonurl)\n",
    "\n",
    "moondata = response.json()"
   ]
  },
  {
   "cell_type": "code",
   "execution_count": 65,
   "metadata": {},
   "outputs": [
    {
     "name": "stdout",
     "output_type": "stream",
     "text": [
      "The API endpoint is /astronomy.json\n"
     ]
    }
   ],
   "source": [
    "print(\"The API endpoint is /astronomy.json\")"
   ]
  },
  {
   "cell_type": "code",
   "execution_count": 138,
   "metadata": {},
   "outputs": [],
   "source": [
    "# print(type(moondata['astronomy']))\n",
    "# print(moondata['astronomy'].keys())\n",
    "\n",
    "# print(moondata['astronomy']['astro'])\n",
    "# print(moondata.keys())"
   ]
  },
  {
   "cell_type": "code",
   "execution_count": 164,
   "metadata": {
    "scrolled": true
   },
   "outputs": [
    {
     "name": "stdout",
     "output_type": "stream",
     "text": [
      "On 2021-06-20 the moon will be 76 percent illuminated.\n",
      "On 2021-06-21 the moon will be 83 percent illuminated.\n",
      "On 2021-06-22 the moon will be 90 percent illuminated.\n",
      "The API does not provide moon data that far in the future.\n"
     ]
    }
   ],
   "source": [
    "forecasturl = f'http://api.weatherapi.com/v1/forecast.json?key={api_key}&q=Chicago&days=7'\n",
    "response = requests.get(forecasturl)\n",
    "\n",
    "forecastdata = response.json()\n",
    "\n",
    "# print(type(forecastdata))\n",
    "# print(forecastdata.keys())\n",
    "\n",
    "for day in forecastdata['forecast']['forecastday']:\n",
    "    print(f\"On {day['date']} the moon will be {day['astro']['moon_illumination']} percent illuminated.\")\n",
    "    \n",
    "print(\"The API does not provide moon data that far in the future.\")"
   ]
  },
  {
   "cell_type": "markdown",
   "metadata": {},
   "source": [
    "## 4) What's the difference between the high and low temperatures for today?\n",
    "\n",
    "- *Tip: When you requested moon data, you probably overwrote your variables! If so, you'll need to make a new request.*"
   ]
  },
  {
   "cell_type": "code",
   "execution_count": 106,
   "metadata": {},
   "outputs": [
    {
     "name": "stdout",
     "output_type": "stream",
     "text": [
      "The difference between the high and low temperatures is 9.3 degrees\n"
     ]
    }
   ],
   "source": [
    "for value in forecastdata['forecast']['forecastday']:\n",
    "    hightemp = value['day']['maxtemp_f']\n",
    "    lowtemp = value['day']['mintemp_f']\n",
    "print(f\"The difference between the high and low temperatures is {hightemp - lowtemp:.2} degrees\")"
   ]
  },
  {
   "cell_type": "code",
   "execution_count": null,
   "metadata": {
    "collapsed": true
   },
   "outputs": [],
   "source": []
  },
  {
   "cell_type": "markdown",
   "metadata": {
    "collapsed": true
   },
   "source": [
    "## 4.5) How can you avoid the \"oh no I don't have the data any more because I made another request\" problem in the future?\n",
    "\n",
    "What variable(s) do you have to rename, and what would you rename them?"
   ]
  },
  {
   "cell_type": "code",
   "execution_count": null,
   "metadata": {},
   "outputs": [],
   "source": [
    "#You should rename url and data to avoid the \"oh no I don't have the data any more\" problem."
   ]
  },
  {
   "cell_type": "code",
   "execution_count": null,
   "metadata": {},
   "outputs": [],
   "source": []
  },
  {
   "cell_type": "markdown",
   "metadata": {},
   "source": [
    "## 5) Go through the daily forecasts, printing out the next week's worth of predictions.\n",
    "\n",
    "I'd like to know the **high temperature** for each day, and whether it's **hot, warm, or cold** (based on what temperatures you think are hot, warm or cold).\n",
    "\n",
    "- *Tip: You'll need to use an `if` statement to say whether it is hot, warm or cold.*"
   ]
  },
  {
   "cell_type": "code",
   "execution_count": 148,
   "metadata": {},
   "outputs": [
    {
     "name": "stdout",
     "output_type": "stream",
     "text": [
      "On 2021-06-20 the high temperature will be 75.7 F.\n",
      "It will be nice and warm.\n",
      "On 2021-06-21 the high temperature will be 67.3 F.\n",
      "It will be nice and warm.\n",
      "On 2021-06-22 the high temperature will be 71.6 F.\n",
      "It will be nice and warm.\n",
      "And since it's Chicago, no matter what, you say: 'But it's the humidity that gets you.'\n"
     ]
    }
   ],
   "source": [
    "for day in forecastdata['forecast']['forecastday']:\n",
    "    print(\"On\", day['date'], \"the high temperature will be\", day['day']['maxtemp_f'], \"F.\")\n",
    "    if day['day']['maxtemp_f'] > 78:\n",
    "        print(\"It's gonna be a hot one.\")\n",
    "    elif day['day']['maxtemp_f'] < 65:\n",
    "        print(\"That's a bit chilly.\")\n",
    "    else:\n",
    "        print(\"It will be nice and warm.\")\n",
    "print(\"And since it's Chicago, no matter what, you say: 'But it's the humidity that gets you.'\")\n",
    "    "
   ]
  },
  {
   "cell_type": "code",
   "execution_count": null,
   "metadata": {},
   "outputs": [],
   "source": []
  },
  {
   "cell_type": "code",
   "execution_count": null,
   "metadata": {},
   "outputs": [],
   "source": []
  },
  {
   "cell_type": "markdown",
   "metadata": {},
   "source": [
    "# 6) What will be the hottest day in the next week? What is the high temperature on that day?"
   ]
  },
  {
   "cell_type": "code",
   "execution_count": 173,
   "metadata": {},
   "outputs": [
    {
     "name": "stdout",
     "output_type": "stream",
     "text": [
      "[75.7, 67.3, 71.6]\n",
      "The hottest day will be 2021-06-20 with a high of 75.7.\n"
     ]
    }
   ],
   "source": [
    "# count = 0\n",
    "# for day in forecastdata['forecast']['forecastday']:\n",
    "#     count = count + 1\n",
    "#     maxtemp = day['day']['maxtemp_f']\n",
    "#     print(f'On day {count} the high is {maxtemp}')\n",
    "\n",
    "hottest = []\n",
    "for day in forecastdata['forecast']['forecastday']:\n",
    "    maxtemp = day['day']['maxtemp_f']\n",
    "    hottest.append(maxtemp)\n",
    "print(hottest)\n",
    "\n",
    "largest = hottest[0]\n",
    "for number in hottest:\n",
    "    if number > largest:\n",
    "        largest = number\n",
    "        date = day['date']\n",
    "\n",
    "print(f'The hottest day will be {date} with a high of {largest}.')"
   ]
  },
  {
   "cell_type": "code",
   "execution_count": null,
   "metadata": {
    "collapsed": true
   },
   "outputs": [],
   "source": []
  },
  {
   "cell_type": "code",
   "execution_count": null,
   "metadata": {
    "collapsed": true
   },
   "outputs": [],
   "source": []
  },
  {
   "cell_type": "markdown",
   "metadata": {},
   "source": [
    "## 7) What's the weather looking like for the next 24+ hours in Miami, Florida?\n",
    "\n",
    "I'd like to know the temperature for every hour, and if it's going to have cloud cover of more than 50% say \"{temperature} and cloudy\" instead of just the temperature. \n",
    "\n",
    "- *Tip: You'll only need one day of forecast*"
   ]
  },
  {
   "cell_type": "code",
   "execution_count": 195,
   "metadata": {
    "scrolled": false
   },
   "outputs": [
    {
     "name": "stdout",
     "output_type": "stream",
     "text": [
      "At 2021-06-20 00:00 it will be 82.9 degrees and cloudy.\n",
      "At 2021-06-20 01:00 it will be 82.9 degrees and cloudy.\n",
      "At 2021-06-20 02:00 it will be 82.9 degrees and cloudy.\n",
      "At 2021-06-20 03:00 it will be 82.8 degrees and cloudy.\n",
      "At 2021-06-20 04:00 it will be 82.4 degrees and cloudy.\n",
      "At 2021-06-20 05:00 it will be 82.2 degrees and cloudy.\n",
      "At 2021-06-20 06:00 it will be 82.4 degrees and cloudy.\n",
      "At 2021-06-20 07:00 it will be 82.8 degrees and cloudy.\n",
      "At 2021-06-20 08:00 it will be 82.9 degrees and cloudy.\n",
      "At 2021-06-20 09:00 it will be 83.7 degrees and cloudy.\n",
      "At 2021-06-20 10:00 it will be 84.2 degrees and cloudy.\n",
      "At 2021-06-20 11:00 it will be 84.9 degrees and cloudy.\n",
      "At 2021-06-20 12:00 it will be 85.1 degrees and cloudy.\n",
      "At 2021-06-20 13:00 it will be 85.1 degrees and cloudy.\n",
      "At 2021-06-20 14:00 it will be 85.3 degrees and cloudy.\n",
      "At 2021-06-20 15:00 it will be 85.1 degrees and cloudy.\n",
      "At 2021-06-20 16:00 it will be 85.1 degrees and cloudy.\n",
      "At 2021-06-20 17:00 it will be 84.9 degrees and cloudy.\n",
      "At 2021-06-20 18:00 it will be 84.7 degrees and cloudy.\n",
      "At 2021-06-20 19:00 it will be 84.4 degrees.\n",
      "At 2021-06-20 20:00 it will be 84.2 degrees.\n",
      "At 2021-06-20 21:00 it will be 84.0 degrees.\n",
      "At 2021-06-20 22:00 it will be 83.7 degrees and cloudy.\n",
      "At 2021-06-20 23:00 it will be 83.5 degrees and cloudy.\n"
     ]
    }
   ],
   "source": [
    "miamiurl = f'http://api.weatherapi.com/v1/forecast.json?key={api_key}&q=Miami&days=1'\n",
    "response = requests.get(miamiurl)\n",
    "\n",
    "miamidata = response.json()\n",
    "\n",
    "# print(miamidata['forecast']['forecastday'])\n",
    "\n",
    "for value in miamidata['forecast']['forecastday']:\n",
    "    for hour in value['hour']:\n",
    "        time = hour['time']\n",
    "        temp = hour['temp_f']\n",
    "        cloud = hour['cloud']\n",
    "        if cloud > 50:\n",
    "            print(f'At {time} it will be {temp} degrees and cloudy.')\n",
    "        else:\n",
    "            print(f'At {time} it will be {temp} degrees.')\n"
   ]
  },
  {
   "cell_type": "code",
   "execution_count": null,
   "metadata": {
    "collapsed": true
   },
   "outputs": [],
   "source": []
  },
  {
   "cell_type": "code",
   "execution_count": null,
   "metadata": {
    "collapsed": true
   },
   "outputs": [],
   "source": []
  },
  {
   "cell_type": "markdown",
   "metadata": {},
   "source": [
    "# 8) For the next 24-ish hours in Miami, what percent of the time is the temperature above 85 degrees?\n",
    "\n",
    "- *Tip: You might want to read up on [looping patterns](http://jonathansoma.com/lede/foundations-2017/classes/data%20structures/looping-patterns/)*"
   ]
  },
  {
   "cell_type": "code",
   "execution_count": 198,
   "metadata": {},
   "outputs": [
    {
     "name": "stdout",
     "output_type": "stream",
     "text": [
      "The temperature will be above 85 degrees 0.21 percent of the time.\n"
     ]
    }
   ],
   "source": [
    "count = 0\n",
    "\n",
    "for value in miamidata['forecast']['forecastday']:\n",
    "    for hour in value['hour']:\n",
    "        temp = hour['temp_f']\n",
    "        if temp > 85:\n",
    "            count = count + 1\n",
    "print(f'The temperature will be above 85 degrees {count/24:.2} percent of the time.')"
   ]
  },
  {
   "cell_type": "code",
   "execution_count": null,
   "metadata": {
    "collapsed": true
   },
   "outputs": [],
   "source": []
  },
  {
   "cell_type": "code",
   "execution_count": null,
   "metadata": {
    "collapsed": true
   },
   "outputs": [],
   "source": []
  },
  {
   "cell_type": "markdown",
   "metadata": {},
   "source": [
    "## 9) What was the temperature in Central Park on Christmas Day, 2020? How about 2012? 2007? How far back does the API allow you to go?\n",
    "\n",
    "- *Tip: You'll need to use latitude/longitude. You can ask Google where Central Park is, it knows*\n",
    "- *Tip: Remember when latitude/longitude might use negative numbers*"
   ]
  },
  {
   "cell_type": "code",
   "execution_count": 202,
   "metadata": {},
   "outputs": [
    {
     "name": "stdout",
     "output_type": "stream",
     "text": [
      "dict_values([{'code': 1008, 'message': 'API key is limited to get history data. Please check our pricing page and upgrade to higher plan.'}])\n"
     ]
    }
   ],
   "source": [
    "christmasurl = f'http://api.weatherapi.com/v1/history.json?key={api_key}&q=Manhattan&dt=2020-12-25'\n",
    "response = requests.get(christmasurl)\n",
    "\n",
    "christmasdata = response.json()\n",
    "print(christmasdata.values())"
   ]
  },
  {
   "cell_type": "code",
   "execution_count": null,
   "metadata": {
    "collapsed": true
   },
   "outputs": [],
   "source": []
  },
  {
   "cell_type": "code",
   "execution_count": 203,
   "metadata": {},
   "outputs": [
    {
     "name": "stdout",
     "output_type": "stream",
     "text": [
      "The API allows you to go back to the 1st of Jan, 2010, if you have a paid plan.\n"
     ]
    }
   ],
   "source": [
    "print(f'The API allows you to go back to the 1st of Jan, 2010, if you have a paid plan.')"
   ]
  },
  {
   "cell_type": "code",
   "execution_count": null,
   "metadata": {},
   "outputs": [],
   "source": []
  }
 ],
 "metadata": {
  "kernelspec": {
   "display_name": "Python 3",
   "language": "python",
   "name": "python3"
  },
  "language_info": {
   "codemirror_mode": {
    "name": "ipython",
    "version": 3
   },
   "file_extension": ".py",
   "mimetype": "text/x-python",
   "name": "python",
   "nbconvert_exporter": "python",
   "pygments_lexer": "ipython3",
   "version": "3.8.10"
  }
 },
 "nbformat": 4,
 "nbformat_minor": 1
}
