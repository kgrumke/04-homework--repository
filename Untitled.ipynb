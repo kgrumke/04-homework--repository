{
 "cells": [
  {
   "cell_type": "code",
   "execution_count": 1,
   "id": "af92a9b4",
   "metadata": {},
   "outputs": [],
   "source": [
    "!touch .env"
   ]
  },
  {
   "cell_type": "code",
   "execution_count": 2,
   "id": "6a5494f4",
   "metadata": {},
   "outputs": [
    {
     "ename": "SyntaxError",
     "evalue": "invalid syntax (<ipython-input-2-fe56baed6664>, line 2)",
     "output_type": "error",
     "traceback": [
      "\u001b[0;36m  File \u001b[0;32m\"<ipython-input-2-fe56baed6664>\"\u001b[0;36m, line \u001b[0;32m2\u001b[0m\n\u001b[0;31m    Last_FM_API_Key=0ca900ccd1432a4828da1791f8c52027\u001b[0m\n\u001b[0m                     ^\u001b[0m\n\u001b[0;31mSyntaxError\u001b[0m\u001b[0;31m:\u001b[0m invalid syntax\n"
     ]
    }
   ],
   "source": [
    "Weater_API_Key=a762dce80c61478aad500252211706\n",
    "Last_FM_API_Key=0ca900ccd1432a4828da1791f8c52027"
   ]
  },
  {
   "cell_type": "code",
   "execution_count": 3,
   "id": "ae7711c2",
   "metadata": {},
   "outputs": [
    {
     "name": "stdout",
     "output_type": "stream",
     "text": [
      "Collecting python-dotenv\n",
      "  Downloading python_dotenv-0.18.0-py2.py3-none-any.whl (18 kB)\n",
      "Installing collected packages: python-dotenv\n",
      "Successfully installed python-dotenv-0.18.0\n",
      "\u001b[33mWARNING: You are using pip version 21.1.1; however, version 21.1.2 is available.\n",
      "You should consider upgrading via the '/Users/kategrumke/.pyenv/versions/3.9.5/bin/python -m pip install --upgrade pip' command.\u001b[0m\n",
      "Note: you may need to restart the kernel to use updated packages.\n"
     ]
    }
   ],
   "source": [
    "pip install python-dotenv"
   ]
  },
  {
   "cell_type": "code",
   "execution_count": 4,
   "id": "f00dca96",
   "metadata": {},
   "outputs": [],
   "source": [
    "!touch .env"
   ]
  },
  {
   "cell_type": "code",
   "execution_count": null,
   "id": "3d09cc62",
   "metadata": {},
   "outputs": [],
   "source": []
  }
 ],
 "metadata": {
  "kernelspec": {
   "display_name": "Python 3",
   "language": "python",
   "name": "python3"
  },
  "language_info": {
   "codemirror_mode": {
    "name": "ipython",
    "version": 3
   },
   "file_extension": ".py",
   "mimetype": "text/x-python",
   "name": "python",
   "nbconvert_exporter": "python",
   "pygments_lexer": "ipython3",
   "version": "3.9.5"
  }
 },
 "nbformat": 4,
 "nbformat_minor": 5
}
